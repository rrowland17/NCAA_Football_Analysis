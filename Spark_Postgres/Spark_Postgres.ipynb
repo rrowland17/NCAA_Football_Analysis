{
 "cells": [
  {
   "cell_type": "code",
   "execution_count": 1,
   "metadata": {},
   "outputs": [],
   "source": [
    "# Install Additional Python Libraries\n",
    "!pip install -r requirements.txt"
   ]
  },
  {
   "cell_type": "code",
   "execution_count": 2,
   "metadata": {},
   "outputs": [
    {
     "name": "stdout",
     "output_type": "stream",
     "text": [
      "Adding environment variable `PYSPARK_SUBMIT_ARGS`\n",
      "--packages com.databricks:spark-csv_2.11:1.5.0,org.postgresql:postgresql:42.2.9 pyspark-shell\n"
     ]
    }
   ],
   "source": [
    "# Need postgres\n",
    "# https://mvnrepository.com/artifact/org.postgresql/postgresql\n",
    "from spark_libs import spark_submit\n",
    "packages = [\"com.databricks:spark-csv_2.11:1.5.0\", \n",
    "            \"org.postgresql:postgresql:42.2.9\"]\n",
    "spark_submit(packages=packages)"
   ]
  },
  {
   "cell_type": "code",
   "execution_count": 3,
   "metadata": {},
   "outputs": [],
   "source": [
    "from pyspark.sql import SparkSession\n",
    "from pyspark import SparkFiles\n",
    "from pyspark.sql import DataFrame\n",
    "import pyspark.sql.functions as F"
   ]
  },
  {
   "cell_type": "code",
   "execution_count": 4,
   "metadata": {},
   "outputs": [],
   "source": [
    "# get or create Spark session\n",
    "\n",
    "app_name = \"spark-postgres\"\n",
    "spark = SparkSession.builder.appName(app_name).getOrCreate()"
   ]
  },
  {
   "cell_type": "code",
   "execution_count": 6,
   "metadata": {},
   "outputs": [
    {
     "name": "stdout",
     "output_type": "stream",
     "text": [
      "root\n",
      " |-- team_id: integer (nullable = true)\n",
      " |-- variable: string (nullable = true)\n",
      " |-- first_downs: integer (nullable = true)\n",
      " |-- first_downs_by_penalty: integer (nullable = true)\n",
      " |-- third_down_percentage: double (nullable = true)\n",
      " |-- fourth_down_percentage: double (nullable = true)\n",
      " |-- average_interception_yards: double (nullable = true)\n",
      " |-- average_kickoff_return_yards: double (nullable = true)\n",
      " |-- average_punt_return_yards: double (nullable = true)\n",
      " |-- interceptions: integer (nullable = true)\n",
      " |-- net_average_punt_yards: double (nullable = true)\n",
      " |-- net_passing_yards: integer (nullable = true)\n",
      " |-- net_passing_yards_per_game: double (nullable = true)\n",
      " |-- passing_first_downs: integer (nullable = true)\n",
      " |-- passing_touchdowns: integer (nullable = true)\n",
      " |-- rushing_first_downs: integer (nullable = true)\n",
      " |-- rushing_attempts: integer (nullable = true)\n",
      " |-- rushing_touchdowns: integer (nullable = true)\n",
      " |-- rushing_yards: integer (nullable = true)\n",
      " |-- rushing_yards_per_game: double (nullable = true)\n",
      " |-- total_offensive_plays: integer (nullable = true)\n",
      " |-- total_points: integer (nullable = true)\n",
      " |-- total_points_per_game: double (nullable = true)\n",
      " |-- total_touchdowns: integer (nullable = true)\n",
      " |-- total_offensive_yards: integer (nullable = true)\n",
      " |-- yards_per_game: double (nullable = true)\n",
      " |-- yards_per_pass_attempt: double (nullable = true)\n",
      " |-- yards_per_rush_attempt: double (nullable = true)\n",
      " |-- completed_passes: integer (nullable = true)\n",
      " |-- attempted_passes: integer (nullable = true)\n",
      " |-- field_goals_completed: integer (nullable = true)\n",
      " |-- field_goals_attempted: integer (nullable = true)\n",
      " |-- total_fumbles: integer (nullable = true)\n",
      " |-- defensive_interception: integer (nullable = true)\n",
      " |-- yards_after_interception: integer (nullable = true)\n",
      " |-- total_kickoffs_received: integer (nullable = true)\n",
      " |-- yards_off_kickoff_received: integer (nullable = true)\n",
      " |-- total_punts_received: integer (nullable = true)\n",
      " |-- yards_off_punts_received: integer (nullable = true)\n",
      " |-- total_punts_kicked: integer (nullable = true)\n",
      " |-- total_punt_yards: integer (nullable = true)\n",
      " |-- total_defensive_sacks: integer (nullable = true)\n",
      " |-- yards_lost_from_sacks: integer (nullable = true)\n",
      " |-- total_penalties: integer (nullable = true)\n",
      " |-- total_yards_penalized: integer (nullable = true)\n",
      "\n"
     ]
    }
   ],
   "source": [
    "team_data_file =\"../team/cleaned_team_stats.csv\"\n",
    "\n",
    "spark.sparkContext.addFile(team_data_file)\n",
    "\n",
    "team_df = spark.read \\\n",
    "    .format(\"com.databricks.spark.csv\") \\\n",
    "    .options(header='true', inferSchema=\"true\") \\\n",
    "    .load(SparkFiles.get(\"cleaned_team_stats.csv\"))\n",
    "team_df.printSchema()"
   ]
  },
  {
   "cell_type": "code",
   "execution_count": 13,
   "metadata": {},
   "outputs": [],
   "source": [
    "# Postgres credentials\n",
    "jdbcHostname = \"host.docker.internal\"\n",
    "jdbcPort = \"5432\" # should be 5432 for you\n",
    "jdbcDatabase = \"team_stats\"\n",
    "dialect = \"postgresql\"\n",
    "jdbcUsername = \"postgres\"\n",
    "jdbcPassword = \"changeme\"\n",
    "\n",
    "jdbcUrl = \"jdbc:{3}://{0}:{1}/{2}\".format(jdbcHostname, jdbcPort, jdbcDatabase, dialect)\n",
    "connectionProperties = {\n",
    "  \"user\" : jdbcUsername,\n",
    "  \"password\" : jdbcPassword,\n",
    "  \"driver\" : \"org.postgresql.Driver\" \n",
    "}\n",
    "# for mysql driver = com.mysql.jdbc.Driver"
   ]
  },
  {
   "cell_type": "code",
   "execution_count": null,
   "metadata": {},
   "outputs": [],
   "source": []
  },
  {
   "cell_type": "code",
   "execution_count": 14,
   "metadata": {},
   "outputs": [
    {
     "data": {
      "text/plain": [
       "'jdbc:postgresql://host.docker.internal:5432/team_stats'"
      ]
     },
     "execution_count": 14,
     "metadata": {},
     "output_type": "execute_result"
    }
   ],
   "source": [
    "jdbcUrl"
   ]
  },
  {
   "cell_type": "code",
   "execution_count": 15,
   "metadata": {},
   "outputs": [
    {
     "data": {
      "text/plain": [
       "{'user': 'postgres', 'password': 'changeme', 'driver': 'org.postgresql.Driver'}"
      ]
     },
     "execution_count": 15,
     "metadata": {},
     "output_type": "execute_result"
    }
   ],
   "source": [
    "connectionProperties"
   ]
  },
  {
   "cell_type": "code",
   "execution_count": 16,
   "metadata": {},
   "outputs": [],
   "source": [
    "table = \"team_stats\"\n",
    "mode = \"overwrite\" # options are: error, append, overwrite\n",
    "\n",
    "team_df.write.jdbc(jdbcUrl, table, mode, connectionProperties)"
   ]
  },
  {
   "cell_type": "code",
   "execution_count": null,
   "metadata": {},
   "outputs": [],
   "source": []
  }
 ],
 "metadata": {
  "kernelspec": {
   "display_name": "Python 3",
   "language": "python",
   "name": "python3"
  },
  "language_info": {
   "codemirror_mode": {
    "name": "ipython",
    "version": 3
   },
   "file_extension": ".py",
   "mimetype": "text/x-python",
   "name": "python",
   "nbconvert_exporter": "python",
   "pygments_lexer": "ipython3",
   "version": "3.7.3"
  }
 },
 "nbformat": 4,
 "nbformat_minor": 2
}

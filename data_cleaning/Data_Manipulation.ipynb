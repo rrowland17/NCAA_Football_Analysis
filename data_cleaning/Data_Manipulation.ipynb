{
 "cells": [
  {
   "cell_type": "code",
   "execution_count": 1,
   "metadata": {},
   "outputs": [],
   "source": [
    "# Add dependencies\n",
    "import glob\n",
    "import pandas as pd"
   ]
  },
  {
   "cell_type": "code",
   "execution_count": 2,
   "metadata": {},
   "outputs": [],
   "source": [
    "# get data file names\n",
    "path =r'clean'\n",
    "filenames = glob.glob(path + \"/*.csv\")"
   ]
  },
  {
   "cell_type": "code",
   "execution_count": 3,
   "metadata": {},
   "outputs": [
    {
     "name": "stdout",
     "output_type": "stream",
     "text": [
      "clean\n"
     ]
    }
   ],
   "source": [
    "print(path)"
   ]
  },
  {
   "cell_type": "code",
   "execution_count": 4,
   "metadata": {},
   "outputs": [
    {
     "name": "stdout",
     "output_type": "stream",
     "text": [
      "['clean\\\\air-force-falcons.csv', 'clean\\\\akron-zips.csv', 'clean\\\\alabama-crimson-tide.csv', 'clean\\\\appalachian-state-mountaineers.csv', 'clean\\\\arizona-state-sun-devils.csv', 'clean\\\\arizona-wildcats.csv', 'clean\\\\arkansas-razorbacks.csv', 'clean\\\\arkansas-state-red-wolves.csv', 'clean\\\\army-black-knights.csv', 'clean\\\\auburn-tigers.csv', 'clean\\\\ball-state-cardinals.csv', 'clean\\\\baylor-bears.csv', 'clean\\\\boise-state-broncos.csv', 'clean\\\\boston-college-eagles.csv', 'clean\\\\bowling-green-falcons.csv', 'clean\\\\buffalo-bulls.csv', 'clean\\\\byu-cougars.csv', 'clean\\\\california-golden-bears.csv', 'clean\\\\central-michigan-chippewas.csv', 'clean\\\\charlotte-49ers.csv', 'clean\\\\cincinnati-bearcats.csv', 'clean\\\\clemson-tigers.csv', 'clean\\\\coastal-carolina-chanticleers.csv', 'clean\\\\colorado-buffaloes.csv', 'clean\\\\colorado-state-rams.csv', 'clean\\\\duke-blue-devils.csv', 'clean\\\\east-carolina-pirates.csv', 'clean\\\\eastern-michigan-eagles.csv', 'clean\\\\florida-atlantic-owls.csv', 'clean\\\\florida-gators.csv', 'clean\\\\florida-international-panthers.csv', 'clean\\\\florida-state-seminoles.csv', 'clean\\\\fresno-state-bulldogs.csv', 'clean\\\\georgia-bulldogs.csv', 'clean\\\\georgia-southern-eagles.csv', 'clean\\\\georgia-state-panthers.csv', 'clean\\\\georgia-tech-yellow-jackets.csv', 'clean\\\\hawaii-rainbow-warriors.csv', 'clean\\\\houston-cougars.csv', 'clean\\\\illinois-fighting-illini.csv', 'clean\\\\indiana-hoosiers.csv', 'clean\\\\iowa-hawkeyes.csv', 'clean\\\\iowa-state-cyclones.csv', 'clean\\\\kansas-jayhawks.csv', 'clean\\\\kansas-state-wildcats.csv', 'clean\\\\kent-state-golden-flashes.csv', 'clean\\\\kentucky-wildcats.csv', 'clean\\\\liberty-flames.csv', 'clean\\\\louisiana-ragin-cajuns.csv', 'clean\\\\louisiana-tech-bulldogs.csv', 'clean\\\\louisville-cardinals.csv', 'clean\\\\lsu-tigers.csv', 'clean\\\\marshall-thundering-herd.csv', 'clean\\\\maryland-terrapins.csv', 'clean\\\\memphis-tigers.csv', 'clean\\\\miami-hurricanes.csv', 'clean\\\\miami-oh-redhawks.csv', 'clean\\\\michigan-state-spartans.csv', 'clean\\\\michigan-wolverines.csv', 'clean\\\\middle-tennessee-blue-raiders.csv', 'clean\\\\minnesota-golden-gophers.csv', 'clean\\\\mississippi-state-bulldogs.csv', 'clean\\\\missouri-tigers.csv', 'clean\\\\navy-midshipmen.csv', 'clean\\\\nc-state-wolfpack.csv', 'clean\\\\nebraska-cornhuskers.csv', 'clean\\\\nevada-wolf-pack.csv', 'clean\\\\new-mexico-lobos.csv', 'clean\\\\new-mexico-state-aggies.csv', 'clean\\\\north-carolina-tar-heels.csv', 'clean\\\\north-texas-mean-green.csv', 'clean\\\\northern-illinois-huskies.csv', 'clean\\\\northwestern-wildcats.csv', 'clean\\\\notre-dame-fighting-irish.csv', 'clean\\\\ohio-bobcats.csv', 'clean\\\\ohio-state-buckeyes.csv', 'clean\\\\oklahoma-sooners.csv', 'clean\\\\oklahoma-state-cowboys.csv', 'clean\\\\old-dominion-monarchs.csv', 'clean\\\\ole-miss-rebels.csv', 'clean\\\\oregon-ducks.csv', 'clean\\\\oregon-state-beavers.csv', 'clean\\\\penn-state-nittany-lions.csv', 'clean\\\\pittsburgh-panthers.csv', 'clean\\\\purdue-boilermakers.csv', 'clean\\\\rice-owls.csv', 'clean\\\\rutgers-scarlet-knights.csv', 'clean\\\\san-diego-state-aztecs.csv', 'clean\\\\san-jose-state-spartans.csv', 'clean\\\\smu-mustangs.csv', 'clean\\\\south-alabama-jaguars.csv', 'clean\\\\south-carolina-gamecocks.csv', 'clean\\\\south-florida-bulls.csv', 'clean\\\\southern-mississippi-golden-eagles.csv', 'clean\\\\stanford-cardinal.csv', 'clean\\\\syracuse-orange.csv', 'clean\\\\tcu-horned-frogs.csv', 'clean\\\\temple-owls.csv', 'clean\\\\tennessee-volunteers.csv', 'clean\\\\texas-am-aggies.csv', 'clean\\\\texas-longhorns.csv', 'clean\\\\texas-state-bobcats.csv', 'clean\\\\texas-tech-red-raiders.csv', 'clean\\\\toledo-rockets.csv', 'clean\\\\troy-trojans.csv', 'clean\\\\tulane-green-wave.csv', 'clean\\\\tulsa-golden-hurricane.csv', 'clean\\\\uab-blazers.csv', 'clean\\\\ucf-knights.csv', 'clean\\\\ucla-bruins.csv', 'clean\\\\uconn-huskies.csv', 'clean\\\\ul-monroe-warhawks.csv', 'clean\\\\umass-minutemen.csv', 'clean\\\\unlv-rebels.csv', 'clean\\\\usc-trojans.csv', 'clean\\\\utah-state-aggies.csv', 'clean\\\\utah-utes.csv', 'clean\\\\utep-miners.csv', 'clean\\\\utsa-roadrunners.csv', 'clean\\\\vanderbilt-commodores.csv', 'clean\\\\virginia-cavaliers.csv', 'clean\\\\virginia-tech-hokies.csv', 'clean\\\\wake-forest-demon-deacons.csv', 'clean\\\\washington-huskies.csv', 'clean\\\\washington-state-cougars.csv', 'clean\\\\west-virginia-mountaineers.csv', 'clean\\\\western-kentucky-hilltoppers.csv', 'clean\\\\western-michigan-broncos.csv', 'clean\\\\wisconsin-badgers.csv', 'clean\\\\wyoming-cowboys.csv']\n"
     ]
    }
   ],
   "source": [
    "print(filenames)"
   ]
  },
  {
   "cell_type": "code",
   "execution_count": 5,
   "metadata": {},
   "outputs": [],
   "source": [
    "dfs = []\n",
    "for filename in filenames:\n",
    "    dfs.append(pd.read_csv(filename))\n",
    "\n",
    "# Concatenate all data into one DataFrame\n",
    "big_frame = pd.concat(dfs, ignore_index=True)"
   ]
  },
  {
   "cell_type": "code",
   "execution_count": 6,
   "metadata": {},
   "outputs": [
    {
     "data": {
      "text/plain": [
       "Unnamed: 0       4259\n",
       "AVG_Per_Comp      565\n",
       "AVG_Per_Rec      2022\n",
       "AVG_Per_Rush     1672\n",
       "CMP               565\n",
       "CMP%              565\n",
       "INT               565\n",
       "LNG              4259\n",
       "Name             4259\n",
       "Passing_ATT       565\n",
       "Passing_YDS       565\n",
       "REC              2022\n",
       "RTG               565\n",
       "Recieving_YDS    2022\n",
       "Rushing_ATT      1672\n",
       "Rushing_YDS      1672\n",
       "SACK              565\n",
       "SYL               565\n",
       "TD               4259\n",
       "teamNumer        4259\n",
       "position         4259\n",
       "team_name        4259\n",
       "dtype: int64"
      ]
     },
     "execution_count": 6,
     "metadata": {},
     "output_type": "execute_result"
    }
   ],
   "source": [
    "big_frame.count()"
   ]
  },
  {
   "cell_type": "code",
   "execution_count": 7,
   "metadata": {},
   "outputs": [
    {
     "data": {
      "text/html": [
       "<div>\n",
       "<style scoped>\n",
       "    .dataframe tbody tr th:only-of-type {\n",
       "        vertical-align: middle;\n",
       "    }\n",
       "\n",
       "    .dataframe tbody tr th {\n",
       "        vertical-align: top;\n",
       "    }\n",
       "\n",
       "    .dataframe thead th {\n",
       "        text-align: right;\n",
       "    }\n",
       "</style>\n",
       "<table border=\"1\" class=\"dataframe\">\n",
       "  <thead>\n",
       "    <tr style=\"text-align: right;\">\n",
       "      <th></th>\n",
       "      <th>Unnamed: 0</th>\n",
       "      <th>AVG_Per_Comp</th>\n",
       "      <th>AVG_Per_Rec</th>\n",
       "      <th>AVG_Per_Rush</th>\n",
       "      <th>CMP</th>\n",
       "      <th>CMP%</th>\n",
       "      <th>INT</th>\n",
       "      <th>LNG</th>\n",
       "      <th>Name</th>\n",
       "      <th>Passing_ATT</th>\n",
       "      <th>...</th>\n",
       "      <th>RTG</th>\n",
       "      <th>Recieving_YDS</th>\n",
       "      <th>Rushing_ATT</th>\n",
       "      <th>Rushing_YDS</th>\n",
       "      <th>SACK</th>\n",
       "      <th>SYL</th>\n",
       "      <th>TD</th>\n",
       "      <th>teamNumer</th>\n",
       "      <th>position</th>\n",
       "      <th>team_name</th>\n",
       "    </tr>\n",
       "  </thead>\n",
       "  <tbody>\n",
       "    <tr>\n",
       "      <th>0</th>\n",
       "      <td>0</td>\n",
       "      <td>11.9</td>\n",
       "      <td>NaN</td>\n",
       "      <td>NaN</td>\n",
       "      <td>56.0</td>\n",
       "      <td>50.5</td>\n",
       "      <td>6.0</td>\n",
       "      <td>81</td>\n",
       "      <td>Donald Hammond III QB</td>\n",
       "      <td>111.0</td>\n",
       "      <td>...</td>\n",
       "      <td>177.9</td>\n",
       "      <td>NaN</td>\n",
       "      <td>NaN</td>\n",
       "      <td>NaN</td>\n",
       "      <td>4.0</td>\n",
       "      <td>-22.0</td>\n",
       "      <td>13</td>\n",
       "      <td>82</td>\n",
       "      <td>QB</td>\n",
       "      <td>air-force-falcons</td>\n",
       "    </tr>\n",
       "    <tr>\n",
       "      <th>1</th>\n",
       "      <td>1</td>\n",
       "      <td>24.5</td>\n",
       "      <td>NaN</td>\n",
       "      <td>NaN</td>\n",
       "      <td>5.0</td>\n",
       "      <td>83.3</td>\n",
       "      <td>0.0</td>\n",
       "      <td>75</td>\n",
       "      <td>Mike Schmidt QB</td>\n",
       "      <td>6.0</td>\n",
       "      <td>...</td>\n",
       "      <td>344.1</td>\n",
       "      <td>NaN</td>\n",
       "      <td>NaN</td>\n",
       "      <td>NaN</td>\n",
       "      <td>0.0</td>\n",
       "      <td>0.0</td>\n",
       "      <td>1</td>\n",
       "      <td>82</td>\n",
       "      <td>QB</td>\n",
       "      <td>air-force-falcons</td>\n",
       "    </tr>\n",
       "    <tr>\n",
       "      <th>2</th>\n",
       "      <td>2</td>\n",
       "      <td>15.2</td>\n",
       "      <td>NaN</td>\n",
       "      <td>NaN</td>\n",
       "      <td>5.0</td>\n",
       "      <td>100.0</td>\n",
       "      <td>0.0</td>\n",
       "      <td>41</td>\n",
       "      <td>Isaiah Sanders QB</td>\n",
       "      <td>5.0</td>\n",
       "      <td>...</td>\n",
       "      <td>227.7</td>\n",
       "      <td>NaN</td>\n",
       "      <td>NaN</td>\n",
       "      <td>NaN</td>\n",
       "      <td>0.0</td>\n",
       "      <td>0.0</td>\n",
       "      <td>0</td>\n",
       "      <td>82</td>\n",
       "      <td>QB</td>\n",
       "      <td>air-force-falcons</td>\n",
       "    </tr>\n",
       "    <tr>\n",
       "      <th>3</th>\n",
       "      <td>3</td>\n",
       "      <td>31.5</td>\n",
       "      <td>NaN</td>\n",
       "      <td>NaN</td>\n",
       "      <td>2.0</td>\n",
       "      <td>100.0</td>\n",
       "      <td>0.0</td>\n",
       "      <td>41</td>\n",
       "      <td>Chance Stevenson RB</td>\n",
       "      <td>2.0</td>\n",
       "      <td>...</td>\n",
       "      <td>364.6</td>\n",
       "      <td>NaN</td>\n",
       "      <td>NaN</td>\n",
       "      <td>NaN</td>\n",
       "      <td>0.0</td>\n",
       "      <td>0.0</td>\n",
       "      <td>0</td>\n",
       "      <td>82</td>\n",
       "      <td>RB</td>\n",
       "      <td>air-force-falcons</td>\n",
       "    </tr>\n",
       "    <tr>\n",
       "      <th>4</th>\n",
       "      <td>4</td>\n",
       "      <td>0.0</td>\n",
       "      <td>NaN</td>\n",
       "      <td>NaN</td>\n",
       "      <td>0.0</td>\n",
       "      <td>0.0</td>\n",
       "      <td>0.0</td>\n",
       "      <td>0</td>\n",
       "      <td>-</td>\n",
       "      <td>2.0</td>\n",
       "      <td>...</td>\n",
       "      <td>0.0</td>\n",
       "      <td>NaN</td>\n",
       "      <td>NaN</td>\n",
       "      <td>NaN</td>\n",
       "      <td>0.0</td>\n",
       "      <td>0.0</td>\n",
       "      <td>0</td>\n",
       "      <td>82</td>\n",
       "      <td>-</td>\n",
       "      <td>air-force-falcons</td>\n",
       "    </tr>\n",
       "  </tbody>\n",
       "</table>\n",
       "<p>5 rows × 22 columns</p>\n",
       "</div>"
      ],
      "text/plain": [
       "   Unnamed: 0  AVG_Per_Comp  AVG_Per_Rec  AVG_Per_Rush   CMP   CMP%  INT  LNG  \\\n",
       "0           0          11.9          NaN           NaN  56.0   50.5  6.0   81   \n",
       "1           1          24.5          NaN           NaN   5.0   83.3  0.0   75   \n",
       "2           2          15.2          NaN           NaN   5.0  100.0  0.0   41   \n",
       "3           3          31.5          NaN           NaN   2.0  100.0  0.0   41   \n",
       "4           4           0.0          NaN           NaN   0.0    0.0  0.0    0   \n",
       "\n",
       "                    Name  Passing_ATT  ...    RTG  Recieving_YDS  Rushing_ATT  \\\n",
       "0  Donald Hammond III QB        111.0  ...  177.9            NaN          NaN   \n",
       "1        Mike Schmidt QB          6.0  ...  344.1            NaN          NaN   \n",
       "2      Isaiah Sanders QB          5.0  ...  227.7            NaN          NaN   \n",
       "3    Chance Stevenson RB          2.0  ...  364.6            NaN          NaN   \n",
       "4                      -          2.0  ...    0.0            NaN          NaN   \n",
       "\n",
       "   Rushing_YDS  SACK   SYL  TD  teamNumer  position          team_name  \n",
       "0          NaN   4.0 -22.0  13         82        QB  air-force-falcons  \n",
       "1          NaN   0.0   0.0   1         82        QB  air-force-falcons  \n",
       "2          NaN   0.0   0.0   0         82        QB  air-force-falcons  \n",
       "3          NaN   0.0   0.0   0         82        RB  air-force-falcons  \n",
       "4          NaN   0.0   0.0   0         82         -  air-force-falcons  \n",
       "\n",
       "[5 rows x 22 columns]"
      ]
     },
     "execution_count": 7,
     "metadata": {},
     "output_type": "execute_result"
    }
   ],
   "source": [
    "big_frame.head()"
   ]
  },
  {
   "cell_type": "code",
   "execution_count": 8,
   "metadata": {},
   "outputs": [
    {
     "data": {
      "text/plain": [
       "Unnamed: 0       4259\n",
       "AVG_Per_Comp      565\n",
       "AVG_Per_Rec      2022\n",
       "AVG_Per_Rush     1672\n",
       "CMP               565\n",
       "CMP%              565\n",
       "INT               565\n",
       "LNG              4259\n",
       "Name             4259\n",
       "Passing_ATT       565\n",
       "Passing_YDS       565\n",
       "REC              2022\n",
       "RTG               565\n",
       "Recieving_YDS    2022\n",
       "Rushing_ATT      1672\n",
       "Rushing_YDS      1672\n",
       "SACK              565\n",
       "SYL               565\n",
       "TD               4259\n",
       "teamNumer        4259\n",
       "position         4259\n",
       "team_name        4259\n",
       "dtype: int64"
      ]
     },
     "execution_count": 8,
     "metadata": {},
     "output_type": "execute_result"
    }
   ],
   "source": [
    "big_frame.count()"
   ]
  },
  {
   "cell_type": "code",
   "execution_count": 10,
   "metadata": {},
   "outputs": [],
   "source": [
    "# Export to csv\n",
    "big_frame.to_csv(\"clean_player_data.csv\")"
   ]
  }
 ],
 "metadata": {
  "kernelspec": {
   "display_name": "Conda [PythonData]",
   "language": "python",
   "name": "pythondata"
  },
  "language_info": {
   "codemirror_mode": {
    "name": "ipython",
    "version": 3
   },
   "file_extension": ".py",
   "mimetype": "text/x-python",
   "name": "python",
   "nbconvert_exporter": "python",
   "pygments_lexer": "ipython3",
   "version": "3.6.8"
  }
 },
 "nbformat": 4,
 "nbformat_minor": 2
}

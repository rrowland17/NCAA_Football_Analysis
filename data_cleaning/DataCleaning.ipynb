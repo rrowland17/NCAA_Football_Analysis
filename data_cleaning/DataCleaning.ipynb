{
 "cells": [
  {
   "cell_type": "code",
   "execution_count": 43,
   "metadata": {},
   "outputs": [],
   "source": [
    "import pandas as pd\n",
    "import os\n",
    "import numpy\n"
   ]
  },
  {
   "cell_type": "code",
   "execution_count": 44,
   "metadata": {},
   "outputs": [],
   "source": [
    "team_name=pd.read_csv(\"Team_Stat_URL.csv\")\n",
    "filenames = os.listdir(\"player/\")\n",
    "filenames = [\n",
    "    os.path.join( \"player\", f)\n",
    "    for f in filenames]"
   ]
  },
  {
   "cell_type": "code",
   "execution_count": 45,
   "metadata": {},
   "outputs": [
    {
     "data": {
      "text/plain": [
       "'0'"
      ]
     },
     "execution_count": 45,
     "metadata": {},
     "output_type": "execute_result"
    }
   ],
   "source": [
    "filenames[0].split(\"_\")[0].split(\"\\\\\")[-1]"
   ]
  },
  {
   "cell_type": "code",
   "execution_count": 75,
   "metadata": {},
   "outputs": [],
   "source": [
    "def getPosition(Name):\n",
    "    x=Name.split(\" \")[-1]\n",
    "    return(x)\n",
    "def getTeamName(number):\n",
    "    x=int(number)\n",
    "    return(team_name[\"name\"][x])\n",
    "    \n",
    "    "
   ]
  },
  {
   "cell_type": "code",
   "execution_count": 76,
   "metadata": {},
   "outputs": [],
   "source": [
    "dfs=[]\n",
    "\n",
    "for f in filenames:\n",
    "    n=f.split(\"_\")[0].split(\"\\\\\")[-1]\n",
    "    df=pd.read_csv(f)\n",
    "    df[\"teamNumer\"]=n\n",
    "    df.drop('Unnamed: 0', axis=1, inplace=True)\n",
    "    df=df[df.Name != 'Total']     \n",
    "    df[\"position\"] = df[\"Name\"].map(getPosition)\n",
    "    df[\"team_name\"]=df[\"teamNumer\"].map(getTeamName)\n",
    "    dfs.append(df)"
   ]
  },
  {
   "cell_type": "code",
   "execution_count": 81,
   "metadata": {},
   "outputs": [],
   "source": [
    "for x in dfs:\n",
    "    filename=x[\"team_name\"][0]\n",
    "    x.to_csv(f\"./clean/{filename}.csv\")"
   ]
  },
  {
   "cell_type": "code",
   "execution_count": null,
   "metadata": {},
   "outputs": [],
   "source": []
  },
  {
   "cell_type": "code",
   "execution_count": 19,
   "metadata": {},
   "outputs": [],
   "source": []
  },
  {
   "cell_type": "code",
   "execution_count": 70,
   "metadata": {},
   "outputs": [
    {
     "data": {
      "text/plain": [
       "'cincinnati-bearcats'"
      ]
     },
     "execution_count": 70,
     "metadata": {},
     "output_type": "execute_result"
    }
   ],
   "source": [
    "team_name[\"name\"][0]"
   ]
  },
  {
   "cell_type": "code",
   "execution_count": null,
   "metadata": {},
   "outputs": [],
   "source": []
  }
 ],
 "metadata": {
  "kernelspec": {
   "display_name": "Conda [PythonData]",
   "language": "python",
   "name": "pythondata"
  },
  "language_info": {
   "codemirror_mode": {
    "name": "ipython",
    "version": 3
   },
   "file_extension": ".py",
   "mimetype": "text/x-python",
   "name": "python",
   "nbconvert_exporter": "python",
   "pygments_lexer": "ipython3",
   "version": "3.7.3"
  }
 },
 "nbformat": 4,
 "nbformat_minor": 2
}

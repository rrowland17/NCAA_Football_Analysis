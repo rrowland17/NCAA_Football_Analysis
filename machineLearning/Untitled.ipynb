{
 "cells": [
  {
   "cell_type": "code",
   "execution_count": 4,
   "metadata": {},
   "outputs": [],
   "source": [
    "#Need to process these into new requirements:\n",
    "from sklearn.externals import joblib\n",
    "from sklearn.pipeline import make_pipeline\n",
    "from sklearn.base import BaseEstimator, TransformerMixin\n",
    "import pandas as pd\n",
    "class PandasDummies(BaseEstimator, TransformerMixin):\n",
    "    def transform(self, X, *_):\n",
    "        return pd.get_dummies(X)\n",
    "    \n",
    "    def fit(self, *_):\n",
    "        return self"
   ]
  },
  {
   "cell_type": "code",
   "execution_count": 11,
   "metadata": {},
   "outputs": [],
   "source": [
    "\n",
    "def points(stat1, stat2, stat3, stat4, stat5):\n",
    "        #create df with these 5 variables with column names from model\n",
    "    data={'third_down_percentage': stat1,\n",
    "        'yards_per_pass_attempt':stat2,\n",
    "        'passing_touchdowns':stat3,\n",
    "        'rushing_touchdowns':stat4,\n",
    "        'total_offensive_plays':stat5,\n",
    "        }\n",
    "    df=pd.DataFrame(data, index=[0])\n",
    "    #import model\n",
    "    some_totally_random_model = joblib.load(\"0my_model.pkl\")\n",
    "    #run number with model\n",
    "    df[\"results\"]=some_totally_random_model.predict(df)\n",
    "    #return result as int\n",
    "    return df.dtypes"
   ]
  },
  {
   "cell_type": "code",
   "execution_count": 12,
   "metadata": {},
   "outputs": [
    {
     "data": {
      "text/plain": [
       "third_down_percentage     float64\n",
       "yards_per_pass_attempt    float64\n",
       "passing_touchdowns          int64\n",
       "rushing_touchdowns          int64\n",
       "total_offensive_plays       int64\n",
       "results                   float64\n",
       "dtype: object"
      ]
     },
     "execution_count": 12,
     "metadata": {},
     "output_type": "execute_result"
    }
   ],
   "source": [
    "points (42.99,6.8,19,30,1028)"
   ]
  },
  {
   "cell_type": "code",
   "execution_count": null,
   "metadata": {},
   "outputs": [],
   "source": []
  }
 ],
 "metadata": {
  "kernelspec": {
   "display_name": "Conda [PythonData]",
   "language": "python",
   "name": "pythondata"
  },
  "language_info": {
   "codemirror_mode": {
    "name": "ipython",
    "version": 3
   },
   "file_extension": ".py",
   "mimetype": "text/x-python",
   "name": "python",
   "nbconvert_exporter": "python",
   "pygments_lexer": "ipython3",
   "version": "3.7.3"
  }
 },
 "nbformat": 4,
 "nbformat_minor": 2
}

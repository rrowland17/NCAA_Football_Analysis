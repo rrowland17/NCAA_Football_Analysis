{
 "cells": [
  {
   "cell_type": "code",
   "execution_count": 2,
   "metadata": {},
   "outputs": [
    {
     "name": "stdout",
     "output_type": "stream",
     "text": [
      "Requirement already up-to-date: sklearn in c:\\users\\poona\\anaconda3\\envs\\pythondata\\lib\\site-packages (0.0)\n",
      "Requirement already satisfied, skipping upgrade: scikit-learn in c:\\users\\poona\\anaconda3\\envs\\pythondata\\lib\\site-packages (from sklearn) (0.21.3)\n",
      "Requirement already satisfied, skipping upgrade: joblib>=0.11 in c:\\users\\poona\\anaconda3\\envs\\pythondata\\lib\\site-packages (from scikit-learn->sklearn) (0.14.0)\n",
      "Requirement already satisfied, skipping upgrade: numpy>=1.11.0 in c:\\users\\poona\\anaconda3\\envs\\pythondata\\lib\\site-packages (from scikit-learn->sklearn) (1.17.4)\n",
      "Requirement already satisfied, skipping upgrade: scipy>=0.17.0 in c:\\users\\poona\\anaconda3\\envs\\pythondata\\lib\\site-packages (from scikit-learn->sklearn) (1.3.2)\n"
     ]
    }
   ],
   "source": [
    "# Update sklearn to prevent version mismatches\n",
    "!pip install sklearn --upgrade"
   ]
  },
  {
   "cell_type": "code",
   "execution_count": 3,
   "metadata": {},
   "outputs": [
    {
     "name": "stdout",
     "output_type": "stream",
     "text": [
      "Requirement already satisfied: joblib in c:\\users\\poona\\anaconda3\\envs\\pythondata\\lib\\site-packages (0.14.0)\n"
     ]
    }
   ],
   "source": [
    "# install joblib. This will be used to save your model. \n",
    "# Restart your kernel after installing \n",
    "!pip install joblib"
   ]
  },
  {
   "cell_type": "code",
   "execution_count": 4,
   "metadata": {},
   "outputs": [],
   "source": [
    "import pandas as pd"
   ]
  },
  {
   "cell_type": "code",
   "execution_count": 5,
   "metadata": {},
   "outputs": [
    {
     "data": {
      "text/html": [
       "<div>\n",
       "<style scoped>\n",
       "    .dataframe tbody tr th:only-of-type {\n",
       "        vertical-align: middle;\n",
       "    }\n",
       "\n",
       "    .dataframe tbody tr th {\n",
       "        vertical-align: top;\n",
       "    }\n",
       "\n",
       "    .dataframe thead th {\n",
       "        text-align: right;\n",
       "    }\n",
       "</style>\n",
       "<table border=\"1\" class=\"dataframe\">\n",
       "  <thead>\n",
       "    <tr style=\"text-align: right;\">\n",
       "      <th></th>\n",
       "      <th>team_no</th>\n",
       "      <th>variable</th>\n",
       "      <th>first_downs</th>\n",
       "      <th>first_downs_by_penalty</th>\n",
       "      <th>third_down_percentage</th>\n",
       "      <th>fourth_down_percentage</th>\n",
       "      <th>average_interception_yards</th>\n",
       "      <th>average_kickoff_return_yards</th>\n",
       "      <th>average_punt_return_yards</th>\n",
       "      <th>interceptions</th>\n",
       "      <th>...</th>\n",
       "      <th>yards_per_game</th>\n",
       "      <th>yards_per_pass_attempt</th>\n",
       "      <th>yards_per_rush_attempt</th>\n",
       "      <th>total_penalties</th>\n",
       "      <th>total_yards_penalized</th>\n",
       "      <th>total_defensive_sacks</th>\n",
       "      <th>yards_lost_from_sacks</th>\n",
       "      <th>total_punts_kicked</th>\n",
       "      <th>total_punt_yards</th>\n",
       "      <th>total_team_penalties</th>\n",
       "    </tr>\n",
       "  </thead>\n",
       "  <tbody>\n",
       "    <tr>\n",
       "      <th>0</th>\n",
       "      <td>0</td>\n",
       "      <td>Cincinnati</td>\n",
       "      <td>290</td>\n",
       "      <td>21</td>\n",
       "      <td>42.99</td>\n",
       "      <td>64.71</td>\n",
       "      <td>18.8</td>\n",
       "      <td>21.9</td>\n",
       "      <td>8.3</td>\n",
       "      <td>11</td>\n",
       "      <td>...</td>\n",
       "      <td>390.3</td>\n",
       "      <td>6.8</td>\n",
       "      <td>4.7</td>\n",
       "      <td>123</td>\n",
       "      <td>977</td>\n",
       "      <td>35</td>\n",
       "      <td>234</td>\n",
       "      <td>72</td>\n",
       "      <td>3053</td>\n",
       "      <td>123</td>\n",
       "    </tr>\n",
       "    <tr>\n",
       "      <th>1</th>\n",
       "      <td>1</td>\n",
       "      <td>East Carolina</td>\n",
       "      <td>288</td>\n",
       "      <td>37</td>\n",
       "      <td>39.33</td>\n",
       "      <td>42.86</td>\n",
       "      <td>9.8</td>\n",
       "      <td>16.3</td>\n",
       "      <td>5.3</td>\n",
       "      <td>10</td>\n",
       "      <td>...</td>\n",
       "      <td>430.2</td>\n",
       "      <td>7.7</td>\n",
       "      <td>3.8</td>\n",
       "      <td>71</td>\n",
       "      <td>615</td>\n",
       "      <td>17</td>\n",
       "      <td>150</td>\n",
       "      <td>65</td>\n",
       "      <td>2653</td>\n",
       "      <td>71</td>\n",
       "    </tr>\n",
       "    <tr>\n",
       "      <th>2</th>\n",
       "      <td>2</td>\n",
       "      <td>Houston</td>\n",
       "      <td>232</td>\n",
       "      <td>23</td>\n",
       "      <td>34.84</td>\n",
       "      <td>70.59</td>\n",
       "      <td>10.4</td>\n",
       "      <td>21.7</td>\n",
       "      <td>11.4</td>\n",
       "      <td>12</td>\n",
       "      <td>...</td>\n",
       "      <td>391.5</td>\n",
       "      <td>7.8</td>\n",
       "      <td>4.8</td>\n",
       "      <td>58</td>\n",
       "      <td>579</td>\n",
       "      <td>35</td>\n",
       "      <td>199</td>\n",
       "      <td>54</td>\n",
       "      <td>2531</td>\n",
       "      <td>58</td>\n",
       "    </tr>\n",
       "    <tr>\n",
       "      <th>3</th>\n",
       "      <td>3</td>\n",
       "      <td>Memphis</td>\n",
       "      <td>327</td>\n",
       "      <td>31</td>\n",
       "      <td>45.88</td>\n",
       "      <td>58.33</td>\n",
       "      <td>4.8</td>\n",
       "      <td>26.2</td>\n",
       "      <td>8.1</td>\n",
       "      <td>11</td>\n",
       "      <td>...</td>\n",
       "      <td>485.1</td>\n",
       "      <td>9.5</td>\n",
       "      <td>4.7</td>\n",
       "      <td>103</td>\n",
       "      <td>839</td>\n",
       "      <td>27</td>\n",
       "      <td>170</td>\n",
       "      <td>44</td>\n",
       "      <td>1957</td>\n",
       "      <td>103</td>\n",
       "    </tr>\n",
       "    <tr>\n",
       "      <th>4</th>\n",
       "      <td>4</td>\n",
       "      <td>Navy</td>\n",
       "      <td>282</td>\n",
       "      <td>12</td>\n",
       "      <td>46.20</td>\n",
       "      <td>76.47</td>\n",
       "      <td>4.8</td>\n",
       "      <td>16.9</td>\n",
       "      <td>6.2</td>\n",
       "      <td>4</td>\n",
       "      <td>...</td>\n",
       "      <td>455.8</td>\n",
       "      <td>11.9</td>\n",
       "      <td>6.1</td>\n",
       "      <td>54</td>\n",
       "      <td>459</td>\n",
       "      <td>17</td>\n",
       "      <td>95</td>\n",
       "      <td>39</td>\n",
       "      <td>1668</td>\n",
       "      <td>54</td>\n",
       "    </tr>\n",
       "  </tbody>\n",
       "</table>\n",
       "<p>5 rows × 36 columns</p>\n",
       "</div>"
      ],
      "text/plain": [
       "   team_no       variable  first_downs  first_downs_by_penalty  \\\n",
       "0        0     Cincinnati          290                      21   \n",
       "1        1  East Carolina          288                      37   \n",
       "2        2        Houston          232                      23   \n",
       "3        3        Memphis          327                      31   \n",
       "4        4           Navy          282                      12   \n",
       "\n",
       "   third_down_percentage  fourth_down_percentage  average_interception_yards  \\\n",
       "0                  42.99                   64.71                        18.8   \n",
       "1                  39.33                   42.86                         9.8   \n",
       "2                  34.84                   70.59                        10.4   \n",
       "3                  45.88                   58.33                         4.8   \n",
       "4                  46.20                   76.47                         4.8   \n",
       "\n",
       "   average_kickoff_return_yards  average_punt_return_yards  interceptions  \\\n",
       "0                          21.9                        8.3             11   \n",
       "1                          16.3                        5.3             10   \n",
       "2                          21.7                       11.4             12   \n",
       "3                          26.2                        8.1             11   \n",
       "4                          16.9                        6.2              4   \n",
       "\n",
       "   ...  yards_per_game  yards_per_pass_attempt  yards_per_rush_attempt  \\\n",
       "0  ...           390.3                     6.8                     4.7   \n",
       "1  ...           430.2                     7.7                     3.8   \n",
       "2  ...           391.5                     7.8                     4.8   \n",
       "3  ...           485.1                     9.5                     4.7   \n",
       "4  ...           455.8                    11.9                     6.1   \n",
       "\n",
       "   total_penalties  total_yards_penalized  total_defensive_sacks  \\\n",
       "0              123                    977                     35   \n",
       "1               71                    615                     17   \n",
       "2               58                    579                     35   \n",
       "3              103                    839                     27   \n",
       "4               54                    459                     17   \n",
       "\n",
       "   yards_lost_from_sacks  total_punts_kicked  total_punt_yards  \\\n",
       "0                    234                  72              3053   \n",
       "1                    150                  65              2653   \n",
       "2                    199                  54              2531   \n",
       "3                    170                  44              1957   \n",
       "4                     95                  39              1668   \n",
       "\n",
       "   total_team_penalties  \n",
       "0                   123  \n",
       "1                    71  \n",
       "2                    58  \n",
       "3                   103  \n",
       "4                    54  \n",
       "\n",
       "[5 rows x 36 columns]"
      ]
     },
     "execution_count": 5,
     "metadata": {},
     "output_type": "execute_result"
    }
   ],
   "source": [
    "df = pd.read_csv(\"clean_team_stats.csv\")\n",
    "# Drop the null columns where all values are null\n",
    "df = df.dropna(axis='columns', how='all')\n",
    "# Drop the null rows\n",
    "#df = df.dropna()\n",
    "df.head()"
   ]
  },
  {
   "cell_type": "code",
   "execution_count": 17,
   "metadata": {},
   "outputs": [
    {
     "data": {
      "text/plain": [
       "team_no                           int64\n",
       "variable                         object\n",
       "first_downs                       int64\n",
       "first_downs_by_penalty            int64\n",
       "third_down_percentage           float64\n",
       "fourth_down_percentage          float64\n",
       "average_interception_yards      float64\n",
       "average_kickoff_return_yards    float64\n",
       "average_punt_return_yards       float64\n",
       "interceptions                     int64\n",
       "net_average_punt_yards          float64\n",
       "net_passing_yards                 int64\n",
       "net_passing_yards_per_game      float64\n",
       "passing_first_downs               int64\n",
       "passing_touchdowns                int64\n",
       "rushing_first_downs               int64\n",
       "rushing_attempts                  int64\n",
       "rushing_touchdowns                int64\n",
       "rushing_yards                     int64\n",
       "rushing_yards_per_game          float64\n",
       "total_offensive_plays             int64\n",
       "total_points                      int64\n",
       "total_points_per_game           float64\n",
       "total_touchdowns                  int64\n",
       "total_offensive_yards             int64\n",
       "total_penalties_yards            object\n",
       "yards_per_game                  float64\n",
       "yards_per_pass_attempt          float64\n",
       "yards_per_rush_attempt          float64\n",
       "total_penalties                   int64\n",
       "total_yards_penalized             int64\n",
       "total_defensive_sacks             int64\n",
       "yards_lost_from_sacks             int64\n",
       "total_punts_kicked                int64\n",
       "total_punt_yards                  int64\n",
       "total_team_penalties              int64\n",
       "dtype: object"
      ]
     },
     "execution_count": 17,
     "metadata": {},
     "output_type": "execute_result"
    }
   ],
   "source": [
    "df.dtypes"
   ]
  },
  {
   "cell_type": "code",
   "execution_count": 25,
   "metadata": {},
   "outputs": [],
   "source": [
    "df=df.drop(['team_no','variable', 'total_penalties_yards'], axis=1)"
   ]
  },
  {
   "cell_type": "code",
   "execution_count": 26,
   "metadata": {},
   "outputs": [
    {
     "data": {
      "text/plain": [
       "first_downs                       int64\n",
       "first_downs_by_penalty            int64\n",
       "third_down_percentage           float64\n",
       "fourth_down_percentage          float64\n",
       "average_interception_yards      float64\n",
       "average_kickoff_return_yards    float64\n",
       "average_punt_return_yards       float64\n",
       "interceptions                     int64\n",
       "net_average_punt_yards          float64\n",
       "net_passing_yards                 int64\n",
       "net_passing_yards_per_game      float64\n",
       "passing_first_downs               int64\n",
       "passing_touchdowns                int64\n",
       "rushing_first_downs               int64\n",
       "rushing_attempts                  int64\n",
       "rushing_touchdowns                int64\n",
       "rushing_yards                     int64\n",
       "rushing_yards_per_game          float64\n",
       "total_offensive_plays             int64\n",
       "total_points                      int64\n",
       "total_points_per_game           float64\n",
       "total_touchdowns                  int64\n",
       "total_offensive_yards             int64\n",
       "yards_per_game                  float64\n",
       "yards_per_pass_attempt          float64\n",
       "yards_per_rush_attempt          float64\n",
       "total_penalties                   int64\n",
       "total_yards_penalized             int64\n",
       "total_defensive_sacks             int64\n",
       "yards_lost_from_sacks             int64\n",
       "total_punts_kicked                int64\n",
       "total_punt_yards                  int64\n",
       "total_team_penalties              int64\n",
       "dtype: object"
      ]
     },
     "execution_count": 26,
     "metadata": {},
     "output_type": "execute_result"
    }
   ],
   "source": [
    "df.dtypes"
   ]
  },
  {
   "cell_type": "code",
   "execution_count": 29,
   "metadata": {},
   "outputs": [],
   "source": [
    "# # Set features. This will also be used as your x values.\n",
    "# selected_features = df[['names', 'of', 'selected', 'features', 'here']]"
   ]
  },
  {
   "cell_type": "code",
   "execution_count": 30,
   "metadata": {},
   "outputs": [
    {
     "name": "stdout",
     "output_type": "stream",
     "text": [
      "(130, 32) (130, 1)\n"
     ]
    }
   ],
   "source": [
    "X = df.drop(\"third_down_percentage\", axis=1)\n",
    "y = df[\"third_down_percentage\"].values.reshape(-1,1)\n",
    "print(X.shape, y.shape)"
   ]
  },
  {
   "cell_type": "code",
   "execution_count": 31,
   "metadata": {},
   "outputs": [],
   "source": [
    "from sklearn.model_selection import train_test_split\n",
    "from sklearn.preprocessing import LabelEncoder, MinMaxScaler\n",
    "from tensorflow.keras.utils import to_categorical"
   ]
  },
  {
   "cell_type": "code",
   "execution_count": 32,
   "metadata": {},
   "outputs": [],
   "source": [
    "X_train, X_test, y_train, y_test = train_test_split(\n",
    "    X, y, random_state=42,test_size=0.40)"
   ]
  },
  {
   "cell_type": "code",
   "execution_count": 33,
   "metadata": {},
   "outputs": [
    {
     "data": {
      "text/html": [
       "<div>\n",
       "<style scoped>\n",
       "    .dataframe tbody tr th:only-of-type {\n",
       "        vertical-align: middle;\n",
       "    }\n",
       "\n",
       "    .dataframe tbody tr th {\n",
       "        vertical-align: top;\n",
       "    }\n",
       "\n",
       "    .dataframe thead th {\n",
       "        text-align: right;\n",
       "    }\n",
       "</style>\n",
       "<table border=\"1\" class=\"dataframe\">\n",
       "  <thead>\n",
       "    <tr style=\"text-align: right;\">\n",
       "      <th></th>\n",
       "      <th>first_downs</th>\n",
       "      <th>first_downs_by_penalty</th>\n",
       "      <th>fourth_down_percentage</th>\n",
       "      <th>average_interception_yards</th>\n",
       "      <th>average_kickoff_return_yards</th>\n",
       "      <th>average_punt_return_yards</th>\n",
       "      <th>interceptions</th>\n",
       "      <th>net_average_punt_yards</th>\n",
       "      <th>net_passing_yards</th>\n",
       "      <th>net_passing_yards_per_game</th>\n",
       "      <th>...</th>\n",
       "      <th>yards_per_game</th>\n",
       "      <th>yards_per_pass_attempt</th>\n",
       "      <th>yards_per_rush_attempt</th>\n",
       "      <th>total_penalties</th>\n",
       "      <th>total_yards_penalized</th>\n",
       "      <th>total_defensive_sacks</th>\n",
       "      <th>yards_lost_from_sacks</th>\n",
       "      <th>total_punts_kicked</th>\n",
       "      <th>total_punt_yards</th>\n",
       "      <th>total_team_penalties</th>\n",
       "    </tr>\n",
       "  </thead>\n",
       "  <tbody>\n",
       "    <tr>\n",
       "      <th>98</th>\n",
       "      <td>320</td>\n",
       "      <td>26</td>\n",
       "      <td>52.00</td>\n",
       "      <td>14.7</td>\n",
       "      <td>26.3</td>\n",
       "      <td>14.3</td>\n",
       "      <td>6</td>\n",
       "      <td>38.5</td>\n",
       "      <td>3615</td>\n",
       "      <td>258.2</td>\n",
       "      <td>...</td>\n",
       "      <td>433.1</td>\n",
       "      <td>8.1</td>\n",
       "      <td>4.8</td>\n",
       "      <td>85</td>\n",
       "      <td>862</td>\n",
       "      <td>25</td>\n",
       "      <td>175</td>\n",
       "      <td>62</td>\n",
       "      <td>2720</td>\n",
       "      <td>85</td>\n",
       "    </tr>\n",
       "    <tr>\n",
       "      <th>128</th>\n",
       "      <td>295</td>\n",
       "      <td>28</td>\n",
       "      <td>56.52</td>\n",
       "      <td>11.8</td>\n",
       "      <td>21.6</td>\n",
       "      <td>1.8</td>\n",
       "      <td>11</td>\n",
       "      <td>37.6</td>\n",
       "      <td>3758</td>\n",
       "      <td>313.2</td>\n",
       "      <td>...</td>\n",
       "      <td>456.3</td>\n",
       "      <td>7.7</td>\n",
       "      <td>4.3</td>\n",
       "      <td>64</td>\n",
       "      <td>597</td>\n",
       "      <td>27</td>\n",
       "      <td>155</td>\n",
       "      <td>45</td>\n",
       "      <td>1818</td>\n",
       "      <td>64</td>\n",
       "    </tr>\n",
       "    <tr>\n",
       "      <th>53</th>\n",
       "      <td>304</td>\n",
       "      <td>27</td>\n",
       "      <td>37.50</td>\n",
       "      <td>13.9</td>\n",
       "      <td>22.0</td>\n",
       "      <td>5.4</td>\n",
       "      <td>10</td>\n",
       "      <td>34.0</td>\n",
       "      <td>3490</td>\n",
       "      <td>268.5</td>\n",
       "      <td>...</td>\n",
       "      <td>436.8</td>\n",
       "      <td>7.6</td>\n",
       "      <td>4.6</td>\n",
       "      <td>72</td>\n",
       "      <td>605</td>\n",
       "      <td>29</td>\n",
       "      <td>164</td>\n",
       "      <td>60</td>\n",
       "      <td>2247</td>\n",
       "      <td>72</td>\n",
       "    </tr>\n",
       "    <tr>\n",
       "      <th>5</th>\n",
       "      <td>321</td>\n",
       "      <td>40</td>\n",
       "      <td>73.33</td>\n",
       "      <td>10.1</td>\n",
       "      <td>26.1</td>\n",
       "      <td>8.1</td>\n",
       "      <td>11</td>\n",
       "      <td>36.4</td>\n",
       "      <td>4017</td>\n",
       "      <td>309.0</td>\n",
       "      <td>...</td>\n",
       "      <td>489.8</td>\n",
       "      <td>8.0</td>\n",
       "      <td>4.4</td>\n",
       "      <td>83</td>\n",
       "      <td>743</td>\n",
       "      <td>17</td>\n",
       "      <td>108</td>\n",
       "      <td>64</td>\n",
       "      <td>2499</td>\n",
       "      <td>83</td>\n",
       "    </tr>\n",
       "    <tr>\n",
       "      <th>68</th>\n",
       "      <td>272</td>\n",
       "      <td>23</td>\n",
       "      <td>68.00</td>\n",
       "      <td>9.7</td>\n",
       "      <td>18.3</td>\n",
       "      <td>8.4</td>\n",
       "      <td>6</td>\n",
       "      <td>37.7</td>\n",
       "      <td>3278</td>\n",
       "      <td>252.2</td>\n",
       "      <td>...</td>\n",
       "      <td>431.2</td>\n",
       "      <td>7.9</td>\n",
       "      <td>4.9</td>\n",
       "      <td>84</td>\n",
       "      <td>645</td>\n",
       "      <td>17</td>\n",
       "      <td>93</td>\n",
       "      <td>63</td>\n",
       "      <td>2485</td>\n",
       "      <td>84</td>\n",
       "    </tr>\n",
       "  </tbody>\n",
       "</table>\n",
       "<p>5 rows × 32 columns</p>\n",
       "</div>"
      ],
      "text/plain": [
       "     first_downs  first_downs_by_penalty  fourth_down_percentage  \\\n",
       "98           320                      26                   52.00   \n",
       "128          295                      28                   56.52   \n",
       "53           304                      27                   37.50   \n",
       "5            321                      40                   73.33   \n",
       "68           272                      23                   68.00   \n",
       "\n",
       "     average_interception_yards  average_kickoff_return_yards  \\\n",
       "98                         14.7                          26.3   \n",
       "128                        11.8                          21.6   \n",
       "53                         13.9                          22.0   \n",
       "5                          10.1                          26.1   \n",
       "68                          9.7                          18.3   \n",
       "\n",
       "     average_punt_return_yards  interceptions  net_average_punt_yards  \\\n",
       "98                        14.3              6                    38.5   \n",
       "128                        1.8             11                    37.6   \n",
       "53                         5.4             10                    34.0   \n",
       "5                          8.1             11                    36.4   \n",
       "68                         8.4              6                    37.7   \n",
       "\n",
       "     net_passing_yards  net_passing_yards_per_game  ...  yards_per_game  \\\n",
       "98                3615                       258.2  ...           433.1   \n",
       "128               3758                       313.2  ...           456.3   \n",
       "53                3490                       268.5  ...           436.8   \n",
       "5                 4017                       309.0  ...           489.8   \n",
       "68                3278                       252.2  ...           431.2   \n",
       "\n",
       "     yards_per_pass_attempt  yards_per_rush_attempt  total_penalties  \\\n",
       "98                      8.1                     4.8               85   \n",
       "128                     7.7                     4.3               64   \n",
       "53                      7.6                     4.6               72   \n",
       "5                       8.0                     4.4               83   \n",
       "68                      7.9                     4.9               84   \n",
       "\n",
       "     total_yards_penalized  total_defensive_sacks  yards_lost_from_sacks  \\\n",
       "98                     862                     25                    175   \n",
       "128                    597                     27                    155   \n",
       "53                     605                     29                    164   \n",
       "5                      743                     17                    108   \n",
       "68                     645                     17                     93   \n",
       "\n",
       "     total_punts_kicked  total_punt_yards  total_team_penalties  \n",
       "98                   62              2720                    85  \n",
       "128                  45              1818                    64  \n",
       "53                   60              2247                    72  \n",
       "5                    64              2499                    83  \n",
       "68                   63              2485                    84  \n",
       "\n",
       "[5 rows x 32 columns]"
      ]
     },
     "execution_count": 33,
     "metadata": {},
     "output_type": "execute_result"
    }
   ],
   "source": [
    "X_train.head()"
   ]
  },
  {
   "cell_type": "code",
   "execution_count": 34,
   "metadata": {},
   "outputs": [],
   "source": [
    "# Scale your data\n",
    "X_scaler = MinMaxScaler().fit(X_train)\n",
    "X_train_scaled = X_scaler.transform(X_train)\n",
    "X_test_scaled = X_scaler.transform(X_test)"
   ]
  },
  {
   "cell_type": "code",
   "execution_count": 45,
   "metadata": {},
   "outputs": [
    {
     "name": "stdout",
     "output_type": "stream",
     "text": [
      "0.2494081462982568\n",
      "-0.014710021237451576\n"
     ]
    },
    {
     "name": "stderr",
     "output_type": "stream",
     "text": [
      "C:\\Users\\poona\\Anaconda3\\envs\\PythonData\\lib\\site-packages\\sklearn\\utils\\validation.py:724: DataConversionWarning: A column-vector y was passed when a 1d array was expected. Please change the shape of y to (n_samples, ), for example using ravel().\n",
      "  y = column_or_1d(y, warn=True)\n",
      "C:\\Users\\poona\\Anaconda3\\envs\\PythonData\\lib\\site-packages\\sklearn\\svm\\base.py:193: FutureWarning: The default value of gamma will change from 'auto' to 'scale' in version 0.22 to account better for unscaled features. Set gamma explicitly to 'auto' or 'scale' to avoid this warning.\n",
      "  \"avoid this warning.\", FutureWarning)\n"
     ]
    }
   ],
   "source": [
    "from sklearn.svm import SVR\n",
    "svr = SVR()\n",
    "svr.fit(X_train, y_train)\n",
    "print(svr.score(X_train, y_train))\n",
    "print(svr.score(X_test, y_test))"
   ]
  },
  {
   "cell_type": "code",
   "execution_count": 39,
   "metadata": {},
   "outputs": [
    {
     "data": {
      "text/plain": [
       "SVR(C=1.0, cache_size=200, coef0=0.0, degree=3, epsilon=0.1,\n",
       "    gamma='auto_deprecated', kernel='linear', max_iter=-1, shrinking=True,\n",
       "    tol=0.001, verbose=False)"
      ]
     },
     "execution_count": 39,
     "metadata": {},
     "output_type": "execute_result"
    }
   ],
   "source": [
    "# Create the SVR Model\n",
    "from sklearn.svm import SVR \n",
    "model = SVR(kernel='linear')\n",
    "model"
   ]
  },
  {
   "cell_type": "code",
   "execution_count": 40,
   "metadata": {},
   "outputs": [
    {
     "name": "stderr",
     "output_type": "stream",
     "text": [
      "C:\\Users\\poona\\Anaconda3\\envs\\PythonData\\lib\\site-packages\\sklearn\\utils\\validation.py:724: DataConversionWarning: A column-vector y was passed when a 1d array was expected. Please change the shape of y to (n_samples, ), for example using ravel().\n",
      "  y = column_or_1d(y, warn=True)\n"
     ]
    },
    {
     "data": {
      "text/plain": [
       "SVR(C=1.0, cache_size=200, coef0=0.0, degree=3, epsilon=0.1,\n",
       "    gamma='auto_deprecated', kernel='linear', max_iter=-1, shrinking=True,\n",
       "    tol=0.001, verbose=False)"
      ]
     },
     "execution_count": 40,
     "metadata": {},
     "output_type": "execute_result"
    }
   ],
   "source": [
    "model.fit(X_train, y_train)"
   ]
  },
  {
   "cell_type": "code",
   "execution_count": 41,
   "metadata": {},
   "outputs": [
    {
     "name": "stdout",
     "output_type": "stream",
     "text": [
      "Training Data Score: -8.314607638286397\n",
      "Testing Data Score: -8.185650148837263\n"
     ]
    }
   ],
   "source": [
    "print(f\"Training Data Score: {model.score(X_train_scaled, y_train)}\")\n",
    "print(f\"Testing Data Score: {model.score(X_test_scaled, y_test)}\")"
   ]
  },
  {
   "cell_type": "code",
   "execution_count": 46,
   "metadata": {},
   "outputs": [
    {
     "data": {
      "text/plain": [
       "SVR(C=10, cache_size=200, coef0=0.0, degree=3, epsilon=0.1, gamma=0.0001,\n",
       "    kernel='linear', max_iter=-1, shrinking=True, tol=0.001, verbose=False)"
      ]
     },
     "execution_count": 46,
     "metadata": {},
     "output_type": "execute_result"
    }
   ],
   "source": [
    "best_model=SVR(kernel='linear', C=10, gamma=0.0001)\n",
    "best_model"
   ]
  },
  {
   "cell_type": "code",
   "execution_count": 47,
   "metadata": {},
   "outputs": [
    {
     "data": {
      "text/plain": [
       "['poogoel_collegefootball_analysis_svr.sav']"
      ]
     },
     "execution_count": 47,
     "metadata": {},
     "output_type": "execute_result"
    }
   ],
   "source": [
    "# save your model by updating \"your_name\" with your name\n",
    "\n",
    "# and \"your_model\" with your model variable\n",
    "\n",
    "# if joblib fails to import, try running the command to install in terminal/git-bash\n",
    "import joblib\n",
    "filename = 'poogoel_collegefootball_analysis_svr.sav'\n",
    "joblib.dump(best_model, filename)"
   ]
  },
  {
   "cell_type": "code",
   "execution_count": null,
   "metadata": {},
   "outputs": [],
   "source": []
  }
 ],
 "metadata": {
  "kernelspec": {
   "display_name": "Python 3",
   "language": "python",
   "name": "python3"
  },
  "language_info": {
   "codemirror_mode": {
    "name": "ipython",
    "version": 3
   },
   "file_extension": ".py",
   "mimetype": "text/x-python",
   "name": "python",
   "nbconvert_exporter": "python",
   "pygments_lexer": "ipython3",
   "version": "3.6.8"
  }
 },
 "nbformat": 4,
 "nbformat_minor": 2
}
